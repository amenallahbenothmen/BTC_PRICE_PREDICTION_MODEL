{
 "cells": [
  {
   "cell_type": "code",
   "execution_count": 14,
   "metadata": {},
   "outputs": [],
   "source": [
    "import os"
   ]
  },
  {
   "cell_type": "code",
   "execution_count": 15,
   "metadata": {},
   "outputs": [
    {
     "data": {
      "text/plain": [
       "'c:\\\\Users\\\\amenm\\\\OneDrive\\\\Desktop\\\\Predecting_BTC_Price\\\\Bitcoin_predection_price'"
      ]
     },
     "execution_count": 15,
     "metadata": {},
     "output_type": "execute_result"
    }
   ],
   "source": [
    "pwd%\n"
   ]
  },
  {
   "cell_type": "code",
   "execution_count": 3,
   "metadata": {},
   "outputs": [],
   "source": [
    "os.chdir(\"../\")"
   ]
  },
  {
   "cell_type": "code",
   "execution_count": 4,
   "metadata": {},
   "outputs": [
    {
     "data": {
      "text/plain": [
       "'c:\\\\Users\\\\amenm\\\\OneDrive\\\\Desktop\\\\Predecting_BTC_Price\\\\Bitcoin_predection_price'"
      ]
     },
     "execution_count": 4,
     "metadata": {},
     "output_type": "execute_result"
    }
   ],
   "source": [
    "pwd%"
   ]
  },
  {
   "cell_type": "code",
   "execution_count": 16,
   "metadata": {},
   "outputs": [],
   "source": [
    "from dataclasses import dataclass\n",
    "from pathlib import Path\n",
    "@dataclass(frozen=True)\n",
    "class DataIngestionConfig:\n",
    "    root_dir:Path\n",
    "    source_URL_Transaction:str\n",
    "    source_URL_blocks:str\n",
    "    dataset_name:str"
   ]
  },
  {
   "cell_type": "code",
   "execution_count": 17,
   "metadata": {},
   "outputs": [],
   "source": [
    "from src.LSTM_BTC_Prediction.constants  import *\n",
    "from src.LSTM_BTC_Prediction.utils.common import read_yaml,create_directories"
   ]
  },
  {
   "cell_type": "code",
   "execution_count": 18,
   "metadata": {},
   "outputs": [],
   "source": [
    "class ConfigurationManager:\n",
    "    def __init__(self,config_filepath=CONFIG_FILE_PATH,params_filepath=PARAMS_FILE_PATH):\n",
    "\n",
    "            self.config=read_yaml(config_filepath) \n",
    "            self.params=read_yaml(params_filepath)\n",
    "\n",
    "            create_directories([self.config.artifacts_root])\n",
    "    \n",
    "    def get_data_ingestion_config(self) -> DataIngestionConfig:\n",
    "        \n",
    "        config=self.config.data_ingestion\n",
    "\n",
    "        create_directories([config.root_dir])  \n",
    "\n",
    "        data_ingestion_config=DataIngestionConfig(\n",
    "            root_dir=config.root_dir,\n",
    "            source_URL_Transaction=config.source_URL_Transaction,\n",
    "            source_URL_blocks=config.source_URL_blocks,\n",
    "            dataset_name= config.dataset_name\n",
    "\n",
    "\n",
    "        )\n",
    "        return data_ingestion_config\n"
   ]
  },
  {
   "cell_type": "code",
   "execution_count": 19,
   "metadata": {},
   "outputs": [],
   "source": [
    "import pandas as pd \n",
    "from src.LSTM_BTC_Prediction import logger \n",
    "import yfinance as yf \n",
    "from datetime import datetime\n",
    "import talib\n",
    "import requests\n",
    "from lxml import html\n",
    "import re\n",
    "from sklearn.preprocessing import MinMaxScaler"
   ]
  },
  {
   "cell_type": "code",
   "execution_count": 20,
   "metadata": {},
   "outputs": [],
   "source": [
    "class DataIngestion:\n",
    "    def __init__(self, config: DataIngestionConfig):\n",
    "        self.config = config\n",
    "\n",
    "    def download_BTC(self) :\n",
    "        try:\n",
    "            symbol = 'BTC-USD'\n",
    "            start_date = '2014-09-17'\n",
    "            now = datetime.now()\n",
    "            end_date = now.strftime('%Y-%m-%d')\n",
    "            data = yf.download(symbol, start=start_date, end=end_date)\n",
    "            df = pd.DataFrame({\n",
    "                'DateTime': data.index,\n",
    "                'close': data['Close'],\n",
    "                'volume': data['Volume'],\n",
    "                'open': data['Open'],\n",
    "                'high': data['High'],\n",
    "                'low': data['Low']\n",
    "            })\n",
    "\n",
    "            df['DateTime'] = pd.to_datetime(df['DateTime'])\n",
    "            df.set_index(df['DateTime'], inplace=True)\n",
    "            df.drop(columns='DateTime', inplace=True)\n",
    "            self.df=df\n",
    "            logger.info(f\"Downloaded data for BTC-USD\")\n",
    "\n",
    "\n",
    "        except Exception as e:\n",
    "            logger.error(f\"Error occurred during data download for BTC-USD : {e}\")\n",
    "            raise e\n",
    "\n",
    "\n",
    "    def adding_indicators(self):\n",
    "\n",
    "        self.df['SMA'] = talib.SMA(self.df['close'], timeperiod=5)\n",
    "        self.df['EMA'] = talib.EMA(self.df['close'], timeperiod=5)\n",
    "        self.df['WMA'] = talib.WMA(self.df['close'], timeperiod=5)\n",
    "        self.df['SMMA'] = talib.SMA(self.df['close'], timeperiod=5)\n",
    "        self.df['target'] = self.df['close'] - self.df['open']\n",
    "        self.df['target_class'] = [1 if self.df['target'][i] > 0 else 0 for i in range(len(self.df))]\n",
    "        self.df['ATR'] = talib.ATR(self.df['high'], self.df['low'], self.df['close'], timeperiod=14)\n",
    "        self.df['OBV'] = talib.OBV(self.df['close'], self.df['volume'])\n",
    "        self.df['daily_return'] = self.df['close'].pct_change()\n",
    "        self.df['feb_0.236'] = self.df['low'] + 0.236 * (self.df['high'] - self.df['low'])\n",
    "        self.df['feb_0.382'] = self.df['low'] + 0.382 * (self.df['high'] - self.df['low'])\n",
    "        self.df['feb_0.5'] = self.df['low'] + 0.5 * (self.df['high'] - self.df['low'])\n",
    "        self.df['feb_0.618'] = self.df['low'] + 0.618 * (self.df['high'] - self.df['low'])\n",
    "        self.df['feb_1'] = self.df['low'] + (self.df['high'] - self.df['low'])\n",
    "\n",
    "        logger.info(\"Added indicators to DataFrame\")\n",
    "\n",
    " \n",
    "\n",
    "\n",
    "    def download_Transaction(self) :\n",
    "        try:\n",
    "            response = requests.get(self.config.source_URL_Transaction)\n",
    "            if response.status_code == 200:\n",
    "                tree = html.fromstring(response.content)\n",
    "                extracted_text_list = tree.xpath('//a/following-sibling::text()')\n",
    "                extracted_text = ' '.join(map(str.strip, extracted_text_list)).replace(u'\\xa0', ' ')\n",
    "                pattern = re.compile(r'(\\d{2}-\\w{3}-\\d{4} \\d{2}:\\d{2})\\s+(-?\\d+[KM]?)')\n",
    "                matches = pattern.findall(extracted_text)\n",
    "                df = pd.DataFrame(matches, columns=['DateTime', 'Transactions'])\n",
    "                df['DateTime'] = pd.to_datetime(df['DateTime'], format='%d-%b-%Y %H:%M')\n",
    "                df['DateTime'] = df['DateTime'].dt.strftime('%Y-%m-%d')\n",
    "\n",
    "                compare_date = pd.to_datetime(\"2014-10-01\")\n",
    "                df[\"DateTime\"] = pd.to_datetime(df[\"DateTime\"])\n",
    "                df = df[df[\"DateTime\"] >= compare_date]\n",
    "\n",
    "                df.set_index(df['DateTime'], inplace=True)\n",
    "                df.drop(columns='DateTime', inplace=True)\n",
    "\n",
    "                df['Transactions'] = df['Transactions'].apply(\n",
    "                    lambda x: int(float(x.replace('M', '')) * 1000000) if 'M' in x else (\n",
    "                        int(float(x.replace('K', '')) * 1000) if 'K' in x else\n",
    "                        int(float(x))\n",
    "                    ))\n",
    "\n",
    "                self.df= self.df[self.df.index >= compare_date]\n",
    "\n",
    "                self.df = self.df.join(df)\n",
    "            else:\n",
    "                logger.error(f\"Error occurred during data download for TRANSACTION in response: {response.status_code}\")\n",
    "\n",
    "            logger.info(f\"Downloaded data for TRANSACTION\")\n",
    "\n",
    "        except Exception as e:\n",
    "            logger.error(f\"Error occurred during data download for TRANSACTION : {e}\")\n",
    "            raise e\n",
    "\n",
    "\n",
    "    def download_Blocks(self) :\n",
    "        try:\n",
    "            response = requests.get(self.config.source_URL_blocks)\n",
    "\n",
    "            if response.status_code == 200:\n",
    "                tree = html.fromstring(response.content)\n",
    "                extracted_text_list = tree.xpath('//a/following-sibling::text()')\n",
    "                extracted_text = ' '.join(map(str.strip, extracted_text_list)).replace(u'\\xa0', ' ')\n",
    "                pattern = re.compile(r'(\\d{2}-\\w{3}-\\d{4} \\d{2}:\\d{2})\\s+(-?\\d+[KM]?)')\n",
    "                matches = pattern.findall(extracted_text)\n",
    "\n",
    "                df = pd.DataFrame(matches, columns=['DateTime', 'Blocks'])\n",
    "                df['DateTime'] = pd.to_datetime(df['DateTime'], format='%d-%b-%Y %H:%M')\n",
    "                df['DateTime'] = df['DateTime'].dt.strftime('%Y-%m-%d')\n",
    "\n",
    "                compare_date = pd.to_datetime(\"2014-10-01\")\n",
    "                df[\"DateTime\"] = pd.to_datetime(df[\"DateTime\"])\n",
    "                df = df[df[\"DateTime\"] >= compare_date]\n",
    "\n",
    "                df.set_index(df['DateTime'], inplace=True)\n",
    "                df.drop(columns='DateTime', inplace=True)\n",
    "\n",
    "                df['Blocks'] = df['Blocks'].apply(\n",
    "                    lambda x: int(float(x.replace('K', '')) * 1000) if 'K' in x else int(float(x)))\n",
    "\n",
    "                self.df = self.df.join(df)\n",
    "\n",
    "            else:\n",
    "                logger.error(f\"Error occurred during data download for BLOCKS in response: {response.status_code}\")\n",
    "\n",
    "            logger.info(f\"Downloaded data for BLOCKS\")\n",
    "\n",
    "        except Exception as e:\n",
    "            logger.error(f\"Error occurred during data download for Blocks : {e}\")\n",
    "            raise e\n",
    "\n",
    "\n",
    "    def download_INT_RATE(self) :\n",
    "        try:\n",
    "            symbol = '^IRX'\n",
    "            start_date = '2014-09-17'\n",
    "            now = datetime.now()\n",
    "            end_date = now.strftime('%Y-%m-%d')\n",
    "            interest_rates = yf.download(symbol, start='2014-09-17', end=end_date)\n",
    "            df = pd.DataFrame({\n",
    "                'DateTime': interest_rates.index,\n",
    "                'INT_Rate': interest_rates['Close']\n",
    "            })\n",
    "\n",
    "            expected_dates = pd.date_range(start='2014-09-17', end=end_date, freq='D')\n",
    "            df = df.reindex(expected_dates)\n",
    "            df['INT_Rate'] = df['INT_Rate'].fillna(method='ffill')\n",
    "            df = df.iloc[:-1]\n",
    "            compare_date = pd.to_datetime(\"2014-10-01\")\n",
    "            df[\"DateTime\"] = pd.to_datetime(df.index)\n",
    "            df = df[df[\"DateTime\"] >= compare_date]\n",
    "            df.drop(columns='DateTime', inplace=True)\n",
    "            self.df = self.df.join(df)\n",
    "\n",
    "            logger.info(f\"Downloaded data for INT_RATE\")\n",
    "\n",
    "        except Exception as e:\n",
    "            logger.error(f\"Error occurred during data download for INT_RATE : {e}\")\n",
    "            raise e\n",
    "\n",
    "\n",
    "    def download_STOCK_PRICE(self) :\n",
    "        try:\n",
    "            symbol = \"^GSPC\"\n",
    "            start_date = '2014-09-17'\n",
    "            now = datetime.now()\n",
    "            end_date = now.strftime('%Y-%m-%d')\n",
    "            stock_indices = yf.download(symbol, start=start_date, end=end_date)\n",
    "            df = pd.DataFrame({\n",
    "                'DateTime': stock_indices.index,\n",
    "                'open_stk': stock_indices['Open'],\n",
    "                'high_stk': stock_indices['High'],\n",
    "                'low_stk': stock_indices['Low'],\n",
    "                'close_stk': stock_indices['Close'],\n",
    "                'volume_stk': stock_indices['Volume']\n",
    "            })\n",
    "\n",
    "            expected_dates = pd.date_range(start='2014-09-17', end=end_date, freq='D')\n",
    "            df = df.reindex(expected_dates)\n",
    "            df['open_stk'] = df['open_stk'].fillna(method='ffill')\n",
    "            df['high_stk'] = df['high_stk'].fillna(method='ffill')\n",
    "            df['low_stk'] = df['low_stk'].fillna(method='ffill')\n",
    "            df['close_stk'] = df['close_stk'].fillna(method='ffill')\n",
    "            df['volume_stk'] = df['volume_stk'].fillna(method='ffill')\n",
    "            df = df.iloc[:-1]\n",
    "            compare_date = pd.to_datetime(\"2014-10-01\")\n",
    "            df[\"DateTime\"] = pd.to_datetime(df.index)\n",
    "            df = df[df[\"DateTime\"] >= compare_date]\n",
    "            df.drop(columns='DateTime', inplace=True)\n",
    "            self.df = self.df.join(df)\n",
    "\n",
    "            logger.info(f\"Downloaded data for STOCK_PRICE\")\n",
    "\n",
    "        except Exception as e:\n",
    "            logger.error(f\"Error occurred during data download for STOCK_PRICE : {e}\")\n",
    "            raise e\n",
    "\n",
    "\n",
    "    def download_INFLATION(self) :\n",
    "        try:\n",
    "            symbol = 'TIP'\n",
    "            start_date = '2014-09-17'\n",
    "            now = datetime.now()\n",
    "            end_date = now.strftime('%Y-%m-%d')\n",
    "            inflation_data = yf.download(symbol, start=start_date, end=end_date)\n",
    "            df = pd.DataFrame({\n",
    "                'DateTime':inflation_data.index,\n",
    "                'inflation': inflation_data['Close']\n",
    "            })\n",
    "            expected_dates = pd.date_range(start='2014-09-17', end=end_date, freq='D')\n",
    "            df = df.reindex(expected_dates)\n",
    "            df['inflation'] = df['inflation'].fillna(method='ffill')\n",
    "            df = df.iloc[:-1]\n",
    "\n",
    "            compare_date = pd.to_datetime(\"2014-10-01\")\n",
    "            df[\"DateTime\"] = pd.to_datetime(df.index)\n",
    "            df = df[df[\"DateTime\"] >= compare_date]\n",
    "            df.drop(columns='DateTime', inplace=True)\n",
    "            \n",
    "            self.df= self.df.join(df)\n",
    "\n",
    "            logger.info(f\"Downloaded data for INFLATION\")\n",
    "\n",
    "        except Exception as e:\n",
    "            logger.error(f\"Error occurred during data download for INFLATION : {e}\")\n",
    "            raise e\n",
    "\n",
    "\n",
    "    def save_dataset(self):\n",
    "        os.makedirs(\"artifacts/data_ingestion\", exist_ok=True)\n",
    "        file_path = os.path.join(self.config.root_dir, f\"{self.config.dataset_name}.csv\")\n",
    "        self.df.to_csv(file_path)\n",
    "\n",
    "\n"
   ]
  },
  {
   "cell_type": "code",
   "execution_count": 21,
   "metadata": {},
   "outputs": [
    {
     "name": "stdout",
     "output_type": "stream",
     "text": [
      "[2024-05-06 15:16:54,770: INFO: common: yaml file: config\\config.yaml loaded successfully]\n",
      "[2024-05-06 15:16:54,772: INFO: common: yaml file: params.yaml loaded successfully]\n",
      "[2024-05-06 15:16:54,772: INFO: common: created directory at: artifacts]\n",
      "[2024-05-06 15:16:54,773: INFO: common: created directory at: artifacts/data_ingestion]\n"
     ]
    },
    {
     "name": "stderr",
     "output_type": "stream",
     "text": [
      "[*********************100%%**********************]  1 of 1 completed"
     ]
    },
    {
     "name": "stdout",
     "output_type": "stream",
     "text": [
      "[2024-05-06 15:16:54,813: INFO: 1638166625: Downloaded data for BTC-USD]\n",
      "[2024-05-06 15:16:54,856: INFO: 1638166625: Added indicators to DataFrame]\n"
     ]
    },
    {
     "name": "stderr",
     "output_type": "stream",
     "text": [
      "\n",
      "C:\\Users\\amenm\\AppData\\Local\\Temp\\ipykernel_20552\\1638166625.py:40: FutureWarning: Series.__getitem__ treating keys as positions is deprecated. In a future version, integer keys will always be treated as labels (consistent with DataFrame behavior). To access a value by position, use `ser.iloc[pos]`\n",
      "  self.df['target_class'] = [1 if self.df['target'][i] > 0 else 0 for i in range(len(self.df))]\n"
     ]
    },
    {
     "name": "stdout",
     "output_type": "stream",
     "text": [
      "[2024-05-06 15:17:41,842: INFO: 1638166625: Downloaded data for TRANSACTION]\n",
      "[2024-05-06 15:18:22,714: INFO: 1638166625: Downloaded data for BLOCKS]\n"
     ]
    },
    {
     "name": "stderr",
     "output_type": "stream",
     "text": [
      "[*********************100%%**********************]  1 of 1 completed"
     ]
    },
    {
     "name": "stdout",
     "output_type": "stream",
     "text": [
      "[2024-05-06 15:18:22,751: INFO: 1638166625: Downloaded data for INT_RATE]\n"
     ]
    },
    {
     "name": "stderr",
     "output_type": "stream",
     "text": [
      "\n",
      "C:\\Users\\amenm\\AppData\\Local\\Temp\\ipykernel_20552\\1638166625.py:145: FutureWarning: Series.fillna with 'method' is deprecated and will raise in a future version. Use obj.ffill() or obj.bfill() instead.\n",
      "  df['INT_Rate'] = df['INT_Rate'].fillna(method='ffill')\n",
      "[*********************100%%**********************]  1 of 1 completed"
     ]
    },
    {
     "name": "stdout",
     "output_type": "stream",
     "text": [
      "[2024-05-06 15:18:22,783: INFO: 1638166625: Downloaded data for STOCK_PRICE]\n"
     ]
    },
    {
     "name": "stderr",
     "output_type": "stream",
     "text": [
      "\n",
      "C:\\Users\\amenm\\AppData\\Local\\Temp\\ipykernel_20552\\1638166625.py:178: FutureWarning: Series.fillna with 'method' is deprecated and will raise in a future version. Use obj.ffill() or obj.bfill() instead.\n",
      "  df['open_stk'] = df['open_stk'].fillna(method='ffill')\n",
      "C:\\Users\\amenm\\AppData\\Local\\Temp\\ipykernel_20552\\1638166625.py:179: FutureWarning: Series.fillna with 'method' is deprecated and will raise in a future version. Use obj.ffill() or obj.bfill() instead.\n",
      "  df['high_stk'] = df['high_stk'].fillna(method='ffill')\n",
      "C:\\Users\\amenm\\AppData\\Local\\Temp\\ipykernel_20552\\1638166625.py:180: FutureWarning: Series.fillna with 'method' is deprecated and will raise in a future version. Use obj.ffill() or obj.bfill() instead.\n",
      "  df['low_stk'] = df['low_stk'].fillna(method='ffill')\n",
      "C:\\Users\\amenm\\AppData\\Local\\Temp\\ipykernel_20552\\1638166625.py:181: FutureWarning: Series.fillna with 'method' is deprecated and will raise in a future version. Use obj.ffill() or obj.bfill() instead.\n",
      "  df['close_stk'] = df['close_stk'].fillna(method='ffill')\n",
      "C:\\Users\\amenm\\AppData\\Local\\Temp\\ipykernel_20552\\1638166625.py:182: FutureWarning: Series.fillna with 'method' is deprecated and will raise in a future version. Use obj.ffill() or obj.bfill() instead.\n",
      "  df['volume_stk'] = df['volume_stk'].fillna(method='ffill')\n",
      "[*********************100%%**********************]  1 of 1 completed"
     ]
    },
    {
     "name": "stdout",
     "output_type": "stream",
     "text": [
      "[2024-05-06 15:18:22,828: INFO: 1638166625: Downloaded data for INFLATION]\n"
     ]
    },
    {
     "name": "stderr",
     "output_type": "stream",
     "text": [
      "\n",
      "C:\\Users\\amenm\\AppData\\Local\\Temp\\ipykernel_20552\\1638166625.py:210: FutureWarning: Series.fillna with 'method' is deprecated and will raise in a future version. Use obj.ffill() or obj.bfill() instead.\n",
      "  df['inflation'] = df['inflation'].fillna(method='ffill')\n"
     ]
    }
   ],
   "source": [
    "try:\n",
    "    config= ConfigurationManager()\n",
    "    config=config.get_data_ingestion_config()\n",
    "    data_ingestion=DataIngestion(config=config)\n",
    "    data_ingestion.download_BTC()\n",
    "    data_ingestion.adding_indicators()\n",
    "    data_ingestion.download_Transaction()\n",
    "    data_ingestion.download_Blocks()\n",
    "    data_ingestion.download_INT_RATE()\n",
    "    data_ingestion.download_STOCK_PRICE()\n",
    "    data_ingestion.download_INFLATION()\n",
    "    data_ingestion.save_dataset()\n",
    "except Exception as e:\n",
    "    raise e    "
   ]
  },
  {
   "cell_type": "code",
   "execution_count": null,
   "metadata": {},
   "outputs": [],
   "source": []
  },
  {
   "cell_type": "code",
   "execution_count": null,
   "metadata": {},
   "outputs": [],
   "source": []
  }
 ],
 "metadata": {
  "kernelspec": {
   "display_name": "lstmenv",
   "language": "python",
   "name": "python3"
  },
  "language_info": {
   "codemirror_mode": {
    "name": "ipython",
    "version": 3
   },
   "file_extension": ".py",
   "mimetype": "text/x-python",
   "name": "python",
   "nbconvert_exporter": "python",
   "pygments_lexer": "ipython3",
   "version": "3.9.19"
  }
 },
 "nbformat": 4,
 "nbformat_minor": 2
}
